{
 "cells": [
  {
   "cell_type": "code",
   "execution_count": 1,
   "metadata": {},
   "outputs": [],
   "source": [
    "data <- read.table(\"alldata.tsv\", stringsAsFactors = FALSE,\n",
    "                  header = TRUE)\n",
    "testIDs <- read.csv(\"splits_F20.csv\", header = TRUE)\n",
    "for(j in 1:5){\n",
    "  dir.create(paste(\"split_\", j, sep=\"\"))\n",
    "  train <- data[-testIDs[,j], c(\"id\", \"sentiment\", \"review\") ]\n",
    "  test <- data[testIDs[,j], c(\"id\", \"review\")]\n",
    "  test.y <- data[testIDs[,j], c(\"id\", \"sentiment\", \"score\")]\n",
    "  \n",
    "  tmp_file_name <- paste(\"split_\", j, \"/\", \"train.tsv\", sep=\"\")\n",
    "  write.table(train, file=tmp_file_name, \n",
    "              quote=TRUE, \n",
    "              row.names = FALSE,\n",
    "              sep='\\t')\n",
    "  tmp_file_name <- paste(\"split_\", j, \"/\", \"test.tsv\", sep=\"\")\n",
    "  write.table(test, file=tmp_file_name, \n",
    "              quote=TRUE, \n",
    "              row.names = FALSE,\n",
    "              sep='\\t')\n",
    "  tmp_file_name <- paste(\"split_\", j, \"/\", \"test_y.tsv\", sep=\"\")\n",
    "  write.table(test.y, file=tmp_file_name, \n",
    "            quote=TRUE, \n",
    "            row.names = FALSE,\n",
    "            sep='\\t')\n",
    "}"
   ]
  },
  {
   "cell_type": "code",
   "execution_count": null,
   "metadata": {},
   "outputs": [],
   "source": []
  }
 ],
 "metadata": {
  "kernelspec": {
   "display_name": "R",
   "language": "R",
   "name": "ir"
  },
  "language_info": {
   "codemirror_mode": "r",
   "file_extension": ".r",
   "mimetype": "text/x-r-source",
   "name": "R",
   "pygments_lexer": "r",
   "version": "3.6.1"
  }
 },
 "nbformat": 4,
 "nbformat_minor": 4
}

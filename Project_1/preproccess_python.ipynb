{
 "cells": [
  {
   "cell_type": "code",
   "execution_count": 208,
   "metadata": {
    "collapsed": true
   },
   "outputs": [],
   "source": [
    "import pandas as pd\n",
    "import numpy as np\n",
    "import math"
   ]
  },
  {
   "cell_type": "code",
   "execution_count": 209,
   "metadata": {
    "collapsed": true
   },
   "outputs": [],
   "source": [
    "df1 = pd.read_csv(\"train.csv\")\n",
    "df2 = pd.read_csv(\"test.csv\")"
   ]
  },
  {
   "cell_type": "code",
   "execution_count": 210,
   "metadata": {},
   "outputs": [
    {
     "data": {
      "text/html": [
       "<div>\n",
       "<style scoped>\n",
       "    .dataframe tbody tr th:only-of-type {\n",
       "        vertical-align: middle;\n",
       "    }\n",
       "\n",
       "    .dataframe tbody tr th {\n",
       "        vertical-align: top;\n",
       "    }\n",
       "\n",
       "    .dataframe thead th {\n",
       "        text-align: right;\n",
       "    }\n",
       "</style>\n",
       "<table border=\"1\" class=\"dataframe\">\n",
       "  <thead>\n",
       "    <tr style=\"text-align: right;\">\n",
       "      <th></th>\n",
       "      <th>MS_SubClass</th>\n",
       "      <th>MS_Zoning</th>\n",
       "      <th>Lot_Frontage</th>\n",
       "      <th>Lot_Area</th>\n",
       "      <th>Alley</th>\n",
       "      <th>Lot_Shape</th>\n",
       "      <th>Land_Contour</th>\n",
       "      <th>Lot_Config</th>\n",
       "      <th>Land_Slope</th>\n",
       "      <th>Neighborhood</th>\n",
       "      <th>...</th>\n",
       "      <th>Enclosed_Porch</th>\n",
       "      <th>Three_season_porch</th>\n",
       "      <th>Screen_Porch</th>\n",
       "      <th>Fence</th>\n",
       "      <th>Misc_Val</th>\n",
       "      <th>Mo_Sold</th>\n",
       "      <th>Year_Sold</th>\n",
       "      <th>Sale_Type</th>\n",
       "      <th>Sale_Condition</th>\n",
       "      <th>Sale_Price</th>\n",
       "    </tr>\n",
       "  </thead>\n",
       "  <tbody>\n",
       "    <tr>\n",
       "      <th>0</th>\n",
       "      <td>One_Story_1946_and_Newer_All_Styles</td>\n",
       "      <td>Residential_High_Density</td>\n",
       "      <td>80</td>\n",
       "      <td>11622</td>\n",
       "      <td>No_Alley_Access</td>\n",
       "      <td>Regular</td>\n",
       "      <td>Lvl</td>\n",
       "      <td>Inside</td>\n",
       "      <td>Gtl</td>\n",
       "      <td>North_Ames</td>\n",
       "      <td>...</td>\n",
       "      <td>0</td>\n",
       "      <td>0</td>\n",
       "      <td>120</td>\n",
       "      <td>Minimum_Privacy</td>\n",
       "      <td>0</td>\n",
       "      <td>6</td>\n",
       "      <td>2010</td>\n",
       "      <td>WD</td>\n",
       "      <td>Normal</td>\n",
       "      <td>105000</td>\n",
       "    </tr>\n",
       "    <tr>\n",
       "      <th>1</th>\n",
       "      <td>One_Story_1946_and_Newer_All_Styles</td>\n",
       "      <td>Residential_Low_Density</td>\n",
       "      <td>81</td>\n",
       "      <td>14267</td>\n",
       "      <td>No_Alley_Access</td>\n",
       "      <td>Slightly_Irregular</td>\n",
       "      <td>Lvl</td>\n",
       "      <td>Corner</td>\n",
       "      <td>Gtl</td>\n",
       "      <td>North_Ames</td>\n",
       "      <td>...</td>\n",
       "      <td>0</td>\n",
       "      <td>0</td>\n",
       "      <td>0</td>\n",
       "      <td>No_Fence</td>\n",
       "      <td>12500</td>\n",
       "      <td>6</td>\n",
       "      <td>2010</td>\n",
       "      <td>WD</td>\n",
       "      <td>Normal</td>\n",
       "      <td>172000</td>\n",
       "    </tr>\n",
       "    <tr>\n",
       "      <th>2</th>\n",
       "      <td>Two_Story_1946_and_Newer</td>\n",
       "      <td>Residential_Low_Density</td>\n",
       "      <td>74</td>\n",
       "      <td>13830</td>\n",
       "      <td>No_Alley_Access</td>\n",
       "      <td>Slightly_Irregular</td>\n",
       "      <td>Lvl</td>\n",
       "      <td>Inside</td>\n",
       "      <td>Gtl</td>\n",
       "      <td>Gilbert</td>\n",
       "      <td>...</td>\n",
       "      <td>0</td>\n",
       "      <td>0</td>\n",
       "      <td>0</td>\n",
       "      <td>Minimum_Privacy</td>\n",
       "      <td>0</td>\n",
       "      <td>3</td>\n",
       "      <td>2010</td>\n",
       "      <td>WD</td>\n",
       "      <td>Normal</td>\n",
       "      <td>189900</td>\n",
       "    </tr>\n",
       "    <tr>\n",
       "      <th>3</th>\n",
       "      <td>Two_Story_1946_and_Newer</td>\n",
       "      <td>Residential_Low_Density</td>\n",
       "      <td>78</td>\n",
       "      <td>9978</td>\n",
       "      <td>No_Alley_Access</td>\n",
       "      <td>Slightly_Irregular</td>\n",
       "      <td>Lvl</td>\n",
       "      <td>Inside</td>\n",
       "      <td>Gtl</td>\n",
       "      <td>Gilbert</td>\n",
       "      <td>...</td>\n",
       "      <td>0</td>\n",
       "      <td>0</td>\n",
       "      <td>0</td>\n",
       "      <td>No_Fence</td>\n",
       "      <td>0</td>\n",
       "      <td>6</td>\n",
       "      <td>2010</td>\n",
       "      <td>WD</td>\n",
       "      <td>Normal</td>\n",
       "      <td>195500</td>\n",
       "    </tr>\n",
       "    <tr>\n",
       "      <th>4</th>\n",
       "      <td>One_Story_PUD_1946_and_Newer</td>\n",
       "      <td>Residential_Low_Density</td>\n",
       "      <td>41</td>\n",
       "      <td>4920</td>\n",
       "      <td>No_Alley_Access</td>\n",
       "      <td>Regular</td>\n",
       "      <td>Lvl</td>\n",
       "      <td>Inside</td>\n",
       "      <td>Gtl</td>\n",
       "      <td>Stone_Brook</td>\n",
       "      <td>...</td>\n",
       "      <td>170</td>\n",
       "      <td>0</td>\n",
       "      <td>0</td>\n",
       "      <td>No_Fence</td>\n",
       "      <td>0</td>\n",
       "      <td>4</td>\n",
       "      <td>2010</td>\n",
       "      <td>WD</td>\n",
       "      <td>Normal</td>\n",
       "      <td>213500</td>\n",
       "    </tr>\n",
       "    <tr>\n",
       "      <th>...</th>\n",
       "      <td>...</td>\n",
       "      <td>...</td>\n",
       "      <td>...</td>\n",
       "      <td>...</td>\n",
       "      <td>...</td>\n",
       "      <td>...</td>\n",
       "      <td>...</td>\n",
       "      <td>...</td>\n",
       "      <td>...</td>\n",
       "      <td>...</td>\n",
       "      <td>...</td>\n",
       "      <td>...</td>\n",
       "      <td>...</td>\n",
       "      <td>...</td>\n",
       "      <td>...</td>\n",
       "      <td>...</td>\n",
       "      <td>...</td>\n",
       "      <td>...</td>\n",
       "      <td>...</td>\n",
       "      <td>...</td>\n",
       "      <td>...</td>\n",
       "    </tr>\n",
       "    <tr>\n",
       "      <th>2046</th>\n",
       "      <td>Split_or_Multilevel</td>\n",
       "      <td>Residential_Low_Density</td>\n",
       "      <td>37</td>\n",
       "      <td>7937</td>\n",
       "      <td>No_Alley_Access</td>\n",
       "      <td>Slightly_Irregular</td>\n",
       "      <td>Lvl</td>\n",
       "      <td>CulDSac</td>\n",
       "      <td>Gtl</td>\n",
       "      <td>Mitchell</td>\n",
       "      <td>...</td>\n",
       "      <td>0</td>\n",
       "      <td>0</td>\n",
       "      <td>0</td>\n",
       "      <td>Good_Privacy</td>\n",
       "      <td>0</td>\n",
       "      <td>3</td>\n",
       "      <td>2006</td>\n",
       "      <td>WD</td>\n",
       "      <td>Normal</td>\n",
       "      <td>142500</td>\n",
       "    </tr>\n",
       "    <tr>\n",
       "      <th>2047</th>\n",
       "      <td>One_Story_1946_and_Newer_All_Styles</td>\n",
       "      <td>Residential_Low_Density</td>\n",
       "      <td>0</td>\n",
       "      <td>8885</td>\n",
       "      <td>No_Alley_Access</td>\n",
       "      <td>Slightly_Irregular</td>\n",
       "      <td>Low</td>\n",
       "      <td>Inside</td>\n",
       "      <td>Mod</td>\n",
       "      <td>Mitchell</td>\n",
       "      <td>...</td>\n",
       "      <td>0</td>\n",
       "      <td>0</td>\n",
       "      <td>0</td>\n",
       "      <td>Minimum_Privacy</td>\n",
       "      <td>0</td>\n",
       "      <td>6</td>\n",
       "      <td>2006</td>\n",
       "      <td>WD</td>\n",
       "      <td>Normal</td>\n",
       "      <td>131000</td>\n",
       "    </tr>\n",
       "    <tr>\n",
       "      <th>2048</th>\n",
       "      <td>Split_Foyer</td>\n",
       "      <td>Residential_Low_Density</td>\n",
       "      <td>62</td>\n",
       "      <td>10441</td>\n",
       "      <td>No_Alley_Access</td>\n",
       "      <td>Regular</td>\n",
       "      <td>Lvl</td>\n",
       "      <td>Inside</td>\n",
       "      <td>Gtl</td>\n",
       "      <td>Mitchell</td>\n",
       "      <td>...</td>\n",
       "      <td>0</td>\n",
       "      <td>0</td>\n",
       "      <td>0</td>\n",
       "      <td>Minimum_Privacy</td>\n",
       "      <td>700</td>\n",
       "      <td>7</td>\n",
       "      <td>2006</td>\n",
       "      <td>WD</td>\n",
       "      <td>Normal</td>\n",
       "      <td>132000</td>\n",
       "    </tr>\n",
       "    <tr>\n",
       "      <th>2049</th>\n",
       "      <td>One_Story_1946_and_Newer_All_Styles</td>\n",
       "      <td>Residential_Low_Density</td>\n",
       "      <td>77</td>\n",
       "      <td>10010</td>\n",
       "      <td>No_Alley_Access</td>\n",
       "      <td>Regular</td>\n",
       "      <td>Lvl</td>\n",
       "      <td>Inside</td>\n",
       "      <td>Mod</td>\n",
       "      <td>Mitchell</td>\n",
       "      <td>...</td>\n",
       "      <td>0</td>\n",
       "      <td>0</td>\n",
       "      <td>0</td>\n",
       "      <td>No_Fence</td>\n",
       "      <td>0</td>\n",
       "      <td>4</td>\n",
       "      <td>2006</td>\n",
       "      <td>WD</td>\n",
       "      <td>Normal</td>\n",
       "      <td>170000</td>\n",
       "    </tr>\n",
       "    <tr>\n",
       "      <th>2050</th>\n",
       "      <td>Two_Story_1946_and_Newer</td>\n",
       "      <td>Residential_Low_Density</td>\n",
       "      <td>74</td>\n",
       "      <td>9627</td>\n",
       "      <td>No_Alley_Access</td>\n",
       "      <td>Regular</td>\n",
       "      <td>Lvl</td>\n",
       "      <td>Inside</td>\n",
       "      <td>Mod</td>\n",
       "      <td>Mitchell</td>\n",
       "      <td>...</td>\n",
       "      <td>0</td>\n",
       "      <td>0</td>\n",
       "      <td>0</td>\n",
       "      <td>No_Fence</td>\n",
       "      <td>0</td>\n",
       "      <td>11</td>\n",
       "      <td>2006</td>\n",
       "      <td>WD</td>\n",
       "      <td>Normal</td>\n",
       "      <td>188000</td>\n",
       "    </tr>\n",
       "  </tbody>\n",
       "</table>\n",
       "<p>2051 rows × 71 columns</p>\n",
       "</div>"
      ],
      "text/plain": [
       "                              MS_SubClass                 MS_Zoning  \\\n",
       "0     One_Story_1946_and_Newer_All_Styles  Residential_High_Density   \n",
       "1     One_Story_1946_and_Newer_All_Styles   Residential_Low_Density   \n",
       "2                Two_Story_1946_and_Newer   Residential_Low_Density   \n",
       "3                Two_Story_1946_and_Newer   Residential_Low_Density   \n",
       "4            One_Story_PUD_1946_and_Newer   Residential_Low_Density   \n",
       "...                                   ...                       ...   \n",
       "2046                  Split_or_Multilevel   Residential_Low_Density   \n",
       "2047  One_Story_1946_and_Newer_All_Styles   Residential_Low_Density   \n",
       "2048                          Split_Foyer   Residential_Low_Density   \n",
       "2049  One_Story_1946_and_Newer_All_Styles   Residential_Low_Density   \n",
       "2050             Two_Story_1946_and_Newer   Residential_Low_Density   \n",
       "\n",
       "      Lot_Frontage  Lot_Area            Alley           Lot_Shape  \\\n",
       "0               80     11622  No_Alley_Access             Regular   \n",
       "1               81     14267  No_Alley_Access  Slightly_Irregular   \n",
       "2               74     13830  No_Alley_Access  Slightly_Irregular   \n",
       "3               78      9978  No_Alley_Access  Slightly_Irregular   \n",
       "4               41      4920  No_Alley_Access             Regular   \n",
       "...            ...       ...              ...                 ...   \n",
       "2046            37      7937  No_Alley_Access  Slightly_Irregular   \n",
       "2047             0      8885  No_Alley_Access  Slightly_Irregular   \n",
       "2048            62     10441  No_Alley_Access             Regular   \n",
       "2049            77     10010  No_Alley_Access             Regular   \n",
       "2050            74      9627  No_Alley_Access             Regular   \n",
       "\n",
       "     Land_Contour Lot_Config Land_Slope Neighborhood  ... Enclosed_Porch  \\\n",
       "0             Lvl     Inside        Gtl   North_Ames  ...              0   \n",
       "1             Lvl     Corner        Gtl   North_Ames  ...              0   \n",
       "2             Lvl     Inside        Gtl      Gilbert  ...              0   \n",
       "3             Lvl     Inside        Gtl      Gilbert  ...              0   \n",
       "4             Lvl     Inside        Gtl  Stone_Brook  ...            170   \n",
       "...           ...        ...        ...          ...  ...            ...   \n",
       "2046          Lvl    CulDSac        Gtl     Mitchell  ...              0   \n",
       "2047          Low     Inside        Mod     Mitchell  ...              0   \n",
       "2048          Lvl     Inside        Gtl     Mitchell  ...              0   \n",
       "2049          Lvl     Inside        Mod     Mitchell  ...              0   \n",
       "2050          Lvl     Inside        Mod     Mitchell  ...              0   \n",
       "\n",
       "     Three_season_porch Screen_Porch            Fence Misc_Val  Mo_Sold  \\\n",
       "0                     0          120  Minimum_Privacy        0        6   \n",
       "1                     0            0         No_Fence    12500        6   \n",
       "2                     0            0  Minimum_Privacy        0        3   \n",
       "3                     0            0         No_Fence        0        6   \n",
       "4                     0            0         No_Fence        0        4   \n",
       "...                 ...          ...              ...      ...      ...   \n",
       "2046                  0            0     Good_Privacy        0        3   \n",
       "2047                  0            0  Minimum_Privacy        0        6   \n",
       "2048                  0            0  Minimum_Privacy      700        7   \n",
       "2049                  0            0         No_Fence        0        4   \n",
       "2050                  0            0         No_Fence        0       11   \n",
       "\n",
       "      Year_Sold Sale_Type Sale_Condition Sale_Price  \n",
       "0          2010       WD          Normal     105000  \n",
       "1          2010       WD          Normal     172000  \n",
       "2          2010       WD          Normal     189900  \n",
       "3          2010       WD          Normal     195500  \n",
       "4          2010       WD          Normal     213500  \n",
       "...         ...       ...            ...        ...  \n",
       "2046       2006       WD          Normal     142500  \n",
       "2047       2006       WD          Normal     131000  \n",
       "2048       2006       WD          Normal     132000  \n",
       "2049       2006       WD          Normal     170000  \n",
       "2050       2006       WD          Normal     188000  \n",
       "\n",
       "[2051 rows x 71 columns]"
      ]
     },
     "execution_count": 210,
     "metadata": {},
     "output_type": "execute_result"
    }
   ],
   "source": [
    "df1 = df1.drop(['PID','Street', 'Utilities',  'Condition_2', 'Roof_Matl', 'Heating', 'Pool_QC', 'Misc_Feature', 'Low_Qual_Fin_SF', 'Pool_Area', 'Longitude','Latitude'], axis=1)\n",
    "df2 = df2.drop(['PID','Street', 'Utilities',  'Condition_2', 'Roof_Matl', 'Heating', 'Pool_QC', 'Misc_Feature', 'Low_Qual_Fin_SF', 'Pool_Area', 'Longitude','Latitude'], axis=1)\n",
    "df1"
   ]
  },
  {
   "cell_type": "code",
   "execution_count": 211,
   "metadata": {},
   "outputs": [],
   "source": [
    "df1.Garage_Yr_Blt.fillna(df1.Year_Built, inplace=True)\n",
    "df2.Garage_Yr_Blt.fillna(df2.Year_Built, inplace=True)"
   ]
  },
  {
   "cell_type": "code",
   "execution_count": 212,
   "metadata": {
    "collapsed": true
   },
   "outputs": [],
   "source": [
    "from sklearn.preprocessing import LabelEncoder\n",
    "le = LabelEncoder()"
   ]
  },
  {
   "cell_type": "code",
   "execution_count": 213,
   "metadata": {
    "collapsed": true
   },
   "outputs": [],
   "source": [
    "categorical_feature_mask = df1.dtypes==object\n",
    "categorical_cols = df1.columns[categorical_feature_mask].tolist()"
   ]
  },
  {
   "cell_type": "code",
   "execution_count": 214,
   "metadata": {},
   "outputs": [
    {
     "data": {
      "text/plain": [
       "['MS_SubClass',\n",
       " 'MS_Zoning',\n",
       " 'Alley',\n",
       " 'Lot_Shape',\n",
       " 'Land_Contour',\n",
       " 'Lot_Config',\n",
       " 'Land_Slope',\n",
       " 'Neighborhood',\n",
       " 'Condition_1',\n",
       " 'Bldg_Type',\n",
       " 'House_Style',\n",
       " 'Overall_Qual',\n",
       " 'Overall_Cond',\n",
       " 'Roof_Style',\n",
       " 'Exterior_1st',\n",
       " 'Exterior_2nd',\n",
       " 'Mas_Vnr_Type',\n",
       " 'Exter_Qual',\n",
       " 'Exter_Cond',\n",
       " 'Foundation',\n",
       " 'Bsmt_Qual',\n",
       " 'Bsmt_Cond',\n",
       " 'Bsmt_Exposure',\n",
       " 'BsmtFin_Type_1',\n",
       " 'BsmtFin_Type_2',\n",
       " 'Heating_QC',\n",
       " 'Central_Air',\n",
       " 'Electrical',\n",
       " 'Kitchen_Qual',\n",
       " 'Functional',\n",
       " 'Fireplace_Qu',\n",
       " 'Garage_Type',\n",
       " 'Garage_Finish',\n",
       " 'Garage_Qual',\n",
       " 'Garage_Cond',\n",
       " 'Paved_Drive',\n",
       " 'Fence',\n",
       " 'Sale_Type',\n",
       " 'Sale_Condition']"
      ]
     },
     "execution_count": 214,
     "metadata": {},
     "output_type": "execute_result"
    }
   ],
   "source": [
    "categorical_cols"
   ]
  },
  {
   "cell_type": "code",
   "execution_count": 215,
   "metadata": {},
   "outputs": [
    {
     "name": "stderr",
     "output_type": "stream",
     "text": [
      "C:\\Program Files (x86)\\Microsoft Visual Studio\\Shared\\Python36_64\\lib\\site-packages\\ipykernel_launcher.py:9: SettingWithCopyWarning: \n",
      "A value is trying to be set on a copy of a slice from a DataFrame\n",
      "\n",
      "See the caveats in the documentation: http://pandas.pydata.org/pandas-docs/stable/user_guide/indexing.html#returning-a-view-versus-a-copy\n",
      "  if __name__ == '__main__':\n",
      "C:\\Program Files (x86)\\Microsoft Visual Studio\\Shared\\Python36_64\\lib\\site-packages\\ipykernel_launcher.py:11: SettingWithCopyWarning: \n",
      "A value is trying to be set on a copy of a slice from a DataFrame\n",
      "\n",
      "See the caveats in the documentation: http://pandas.pydata.org/pandas-docs/stable/user_guide/indexing.html#returning-a-view-versus-a-copy\n",
      "  # This is added back by InteractiveShellApp.init_path()\n"
     ]
    },
    {
     "name": "stdout",
     "output_type": "stream",
     "text": [
      "1\n",
      "1\n"
     ]
    }
   ],
   "source": [
    "for col in categorical_cols:\n",
    "    encode = LabelEncoder()\n",
    "    df1[col] = encode.fit_transform(df1[col])\n",
    "    keys = encode.classes_\n",
    "    values = encode.transform(encode.classes_)\n",
    "    dictionary = dict(zip(keys, values))\n",
    "    for index, row in df2.iterrows():\n",
    "        try:\n",
    "            df2[col][index] = dictionary[row[col]]\n",
    "        except:\n",
    "            df2[col][index] = 0\n",
    "            print(1)"
   ]
  },
  {
   "cell_type": "code",
   "execution_count": 260,
   "metadata": {
    "collapsed": true
   },
   "outputs": [],
   "source": [
    "winsor = [\"Lot_Frontage\", \"Lot_Area\", \"Mas_Vnr_Area\", \"BsmtFin_SF_2\", \"Bsmt_Unf_SF\", \"Total_Bsmt_SF\", \"Second_Flr_SF\", 'First_Flr_SF', \"Gr_Liv_Area\", \"Garage_Area\", \"Wood_Deck_SF\", \"Open_Porch_SF\", \"Enclosed_Porch\", \"Three_season_porch\", \"Screen_Porch\", \"Misc_Val\"]\n",
    "for col in winsor:\n",
    "    df1[col] = df1[col].clip(lower=0, upper=df1[col].quantile(0.95))\n",
    "    df2[col] = df2[col].clip(lower=0, upper=df2[col].quantile(0.95))"
   ]
  },
  {
   "cell_type": "code",
   "execution_count": 261,
   "metadata": {
    "collapsed": true
   },
   "outputs": [],
   "source": [
    "columns = df1.columns.to_list()\n",
    "columns.pop()\n",
    "X_train = df1[columns].values\n",
    "y_train = np.log(df1[['Sale_Price']].values)"
   ]
  },
  {
   "cell_type": "code",
   "execution_count": 280,
   "metadata": {},
   "outputs": [
    {
     "data": {
      "text/plain": [
       "Ridge(alpha=1, copy_X=True, fit_intercept=True, max_iter=None, normalize=False,\n",
       "      random_state=None, solver='auto', tol=0.001)"
      ]
     },
     "execution_count": 280,
     "metadata": {},
     "output_type": "execute_result"
    }
   ],
   "source": [
    "from sklearn.linear_model import Ridge\n",
    "clf = Ridge(alpha=1)\n",
    "clf.fit(X_train, y_train)"
   ]
  },
  {
   "cell_type": "code",
   "execution_count": 281,
   "metadata": {
    "collapsed": true
   },
   "outputs": [],
   "source": [
    "X_test = df2[columns].values"
   ]
  },
  {
   "cell_type": "code",
   "execution_count": 282,
   "metadata": {},
   "outputs": [],
   "source": [
    "y_test = np.exp(clf.predict(X_test))"
   ]
  },
  {
   "cell_type": "code",
   "execution_count": 283,
   "metadata": {
    "collapsed": true
   },
   "outputs": [],
   "source": [
    "df3 = pd.read_csv(\"test_y.csv\")"
   ]
  },
  {
   "cell_type": "code",
   "execution_count": 284,
   "metadata": {
    "collapsed": true
   },
   "outputs": [],
   "source": [
    "y_real = df3[['Sale_Price']].values"
   ]
  },
  {
   "cell_type": "code",
   "execution_count": 285,
   "metadata": {},
   "outputs": [
    {
     "data": {
      "text/plain": [
       "0.14616989268733452"
      ]
     },
     "execution_count": 285,
     "metadata": {},
     "output_type": "execute_result"
    }
   ],
   "source": [
    "math.sqrt( (1/y_real.shape[0]) * np.sum((np.log(y_test) - np.log(y_real))**2))"
   ]
  },
  {
   "cell_type": "code",
   "execution_count": 224,
   "metadata": {},
   "outputs": [
    {
     "data": {
      "text/plain": [
       "array([ 0.00000000e+00, -0.00000000e+00,  0.00000000e+00,  5.60462295e-06,\n",
       "        0.00000000e+00,  0.00000000e+00, -0.00000000e+00,  0.00000000e+00,\n",
       "        0.00000000e+00,  0.00000000e+00,  0.00000000e+00,  0.00000000e+00,\n",
       "        0.00000000e+00,  0.00000000e+00,  0.00000000e+00,  2.33135200e-03,\n",
       "        1.12942424e-03,  0.00000000e+00,  0.00000000e+00,  0.00000000e+00,\n",
       "        0.00000000e+00,  8.57157085e-05, -0.00000000e+00,  0.00000000e+00,\n",
       "        0.00000000e+00, -0.00000000e+00,  0.00000000e+00, -0.00000000e+00,\n",
       "       -0.00000000e+00, -0.00000000e+00,  0.00000000e+00, -0.00000000e+00,\n",
       "       -1.01562748e-04,  3.17565668e-04, -0.00000000e+00,  0.00000000e+00,\n",
       "        0.00000000e+00,  0.00000000e+00,  0.00000000e+00,  4.05187669e-04,\n",
       "        0.00000000e+00,  0.00000000e+00,  0.00000000e+00,  0.00000000e+00,\n",
       "       -0.00000000e+00, -0.00000000e+00, -0.00000000e+00, -0.00000000e+00,\n",
       "        0.00000000e+00,  0.00000000e+00, -0.00000000e+00, -0.00000000e+00,\n",
       "        0.00000000e+00, -0.00000000e+00,  0.00000000e+00,  3.23806524e-04,\n",
       "        0.00000000e+00,  0.00000000e+00,  0.00000000e+00,  1.67236713e-04,\n",
       "        0.00000000e+00, -0.00000000e+00,  0.00000000e+00,  0.00000000e+00,\n",
       "        0.00000000e+00,  0.00000000e+00,  0.00000000e+00, -0.00000000e+00,\n",
       "        0.00000000e+00,  0.00000000e+00])"
      ]
     },
     "execution_count": 224,
     "metadata": {},
     "output_type": "execute_result"
    }
   ],
   "source": [
    "from sklearn.linear_model import Lasso\n",
    "clf = Lasso(alpha=1.0)\n",
    "clf.fit(X_train, y_train)\n",
    "coef = clf.coef_\n",
    "coef"
   ]
  },
  {
   "cell_type": "code",
   "execution_count": 225,
   "metadata": {},
   "outputs": [
    {
     "data": {
      "text/plain": [
       "[3, 15, 16, 21, 32, 33, 39, 55, 59]"
      ]
     },
     "execution_count": 225,
     "metadata": {},
     "output_type": "execute_result"
    }
   ],
   "source": [
    "t = []\n",
    "for i,x in enumerate(coef):\n",
    "    if x != 0.0:\n",
    "        t.append(i)\n",
    "t\n",
    "        "
   ]
  },
  {
   "cell_type": "code",
   "execution_count": 226,
   "metadata": {},
   "outputs": [
    {
     "data": {
      "text/plain": [
       "['Lot_Area',\n",
       " 'Year_Built',\n",
       " 'Year_Remod_Add',\n",
       " 'Mas_Vnr_Area',\n",
       " 'Bsmt_Unf_SF',\n",
       " 'Total_Bsmt_SF',\n",
       " 'Gr_Liv_Area',\n",
       " 'Garage_Area',\n",
       " 'Wood_Deck_SF']"
      ]
     },
     "execution_count": 226,
     "metadata": {},
     "output_type": "execute_result"
    }
   ],
   "source": [
    "columns = []\n",
    "for i,col in enumerate(df1.columns.to_list()):\n",
    "    if i in t:\n",
    "        columns.append(col)\n",
    "columns    "
   ]
  },
  {
   "cell_type": "code",
   "execution_count": 227,
   "metadata": {
    "collapsed": true
   },
   "outputs": [],
   "source": [
    "X_train = df1[columns].values\n",
    "X_test = df2[columns].values"
   ]
  },
  {
   "cell_type": "code",
   "execution_count": 228,
   "metadata": {},
   "outputs": [
    {
     "data": {
      "text/plain": [
       "array([[ 7.92681283e-06,  2.84142220e-03,  3.60220825e-03,\n",
       "         1.18504208e-04, -1.10966352e-04,  2.90234178e-04,\n",
       "         3.83283896e-04,  2.41872887e-04,  1.48607144e-04]])"
      ]
     },
     "execution_count": 228,
     "metadata": {},
     "output_type": "execute_result"
    }
   ],
   "source": [
    "from sklearn.linear_model import Ridge\n",
    "clf = Ridge(alpha=0)\n",
    "clf.fit(X_train, y_train)\n",
    "clf.coef_"
   ]
  },
  {
   "cell_type": "code",
   "execution_count": 229,
   "metadata": {},
   "outputs": [
    {
     "data": {
      "text/plain": [
       "0.17197082944334263"
      ]
     },
     "execution_count": 229,
     "metadata": {},
     "output_type": "execute_result"
    }
   ],
   "source": [
    "y_test = np.exp(clf.predict(X_test))\n",
    "df3 = pd.read_csv(\"test_y.csv\")\n",
    "y_real = df3[['Sale_Price']].values\n",
    "math.sqrt( (1/y_real.shape[0]) * np.sum((np.log(y_test) - np.log(y_real))**2))"
   ]
  },
  {
   "cell_type": "code",
   "execution_count": null,
   "metadata": {
    "collapsed": true
   },
   "outputs": [],
   "source": []
  }
 ],
 "metadata": {
  "kernelspec": {
   "display_name": "Python 3.6.3 64-bit",
   "language": "python",
   "name": "python36364bit6c9bb98bb2bc4fcb9679a38287fe6d3e"
  },
  "language_info": {
   "codemirror_mode": {
    "name": "ipython",
    "version": 3
   },
   "file_extension": ".py",
   "mimetype": "text/x-python",
   "name": "python",
   "nbconvert_exporter": "python",
   "pygments_lexer": "ipython3",
   "version": "3.6.3"
  }
 },
 "nbformat": 4,
 "nbformat_minor": 2
}

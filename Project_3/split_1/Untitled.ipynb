{
 "cells": [
  {
   "cell_type": "code",
   "execution_count": 15,
   "metadata": {},
   "outputs": [
    {
     "name": "stderr",
     "output_type": "stream",
     "text": [
      "Setting levels: control = 0, case = 1\n",
      "Setting direction: controls < cases\n"
     ]
    },
    {
     "data": {
      "text/html": [
       "0.926402568623824"
      ],
      "text/latex": [
       "0.926402568623824"
      ],
      "text/markdown": [
       "0.926402568623824"
      ],
      "text/plain": [
       "Area under the curve: 0.9264"
      ]
     },
     "metadata": {},
     "output_type": "display_data"
    }
   ],
   "source": [
    "library(pROC)\n",
    "# move test_y.tsv to this directory\n",
    "test.y <- read.table(\"test_y.tsv\", header = TRUE)\n",
    "pred <- read.table(\"mysubmission.txt\", header = TRUE)\n",
    "pred <- merge(pred, test.y, by=\"id\")\n",
    "roc_obj <- roc(pred$sentiment, pred$prob)\n",
    "pROC::auc(roc_obj)"
   ]
  },
  {
   "cell_type": "code",
   "execution_count": 2,
   "metadata": {},
   "outputs": [
    {
     "name": "stdout",
     "output_type": "stream",
     "text": [
      "package 'pROC' successfully unpacked and MD5 sums checked\n",
      "\n",
      "The downloaded binary packages are in\n",
      "\tC:\\Users\\koric1\\AppData\\Local\\Temp\\RtmpgnTs9Q\\downloaded_packages\n"
     ]
    }
   ],
   "source": [
    "install.packages(\"pROC\")"
   ]
  },
  {
   "cell_type": "code",
   "execution_count": null,
   "metadata": {},
   "outputs": [],
   "source": []
  }
 ],
 "metadata": {
  "kernelspec": {
   "display_name": "R",
   "language": "R",
   "name": "ir"
  },
  "language_info": {
   "codemirror_mode": "r",
   "file_extension": ".r",
   "mimetype": "text/x-r-source",
   "name": "R",
   "pygments_lexer": "r",
   "version": "3.6.1"
  }
 },
 "nbformat": 4,
 "nbformat_minor": 4
}

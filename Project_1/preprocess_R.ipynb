{
 "cells": [
  {
   "cell_type": "code",
   "execution_count": 1,
   "metadata": {},
   "outputs": [],
   "source": [
    "data <- read.csv(\"Ames_data.csv\")\n",
    "testIDs <- read.table(\"project1_testIDs.dat\")\n",
    "j <- 2\n",
    "train <- data[-testIDs[,j], ]\n",
    "test <- data[testIDs[,j], ]\n",
    "test.y <- test[, c(1, 83)]\n",
    "test <- test[, -83]\n",
    "write.csv(train,\"train.csv\",row.names=FALSE)\n",
    "write.csv(test, \"test.csv\",row.names=FALSE)\n",
    "write.csv(test.y,\"test_y.csv\",row.names=FALSE)"
   ]
  },
  {
   "cell_type": "code",
   "execution_count": null,
   "metadata": {},
   "outputs": [],
   "source": []
  }
 ],
 "metadata": {
  "kernelspec": {
   "display_name": "R",
   "language": "R",
   "name": "ir"
  },
  "language_info": {
   "codemirror_mode": "r",
   "file_extension": ".r",
   "mimetype": "text/x-r-source",
   "name": "R",
   "pygments_lexer": "r",
   "version": "3.6.1"
  }
 },
 "nbformat": 4,
 "nbformat_minor": 4
}

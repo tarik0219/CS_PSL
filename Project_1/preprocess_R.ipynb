{
 "cells": [
  {
   "cell_type": "code",
   "execution_count": 1,
   "metadata": {},
   "outputs": [],
   "source": [
    "data <- read.csv(\"Ames_data.csv\")\n",
    "testIDs <- read.table(\"project1_testIDs.dat\")\n",
    "for(j in 1:10) {\n",
    "train <- data[-testIDs[,j], ]\n",
    "test <- data[testIDs[,j], ]\n",
    "test.y <- test[, c(1, 83)]\n",
    "test <- test[, -83]\n",
    "write.csv(train,paste(paste(\"train\", toString(j), sep = \"\"),\".csv\",sep = \"\"),row.names=FALSE)\n",
    "write.csv(test, paste(paste(\"test\", toString(j), sep = \"\"),\".csv\",sep = \"\"),row.names=FALSE)\n",
    "write.csv(test.y,\"test_y.csv\",row.names=FALSE)\n",
    "    }"
   ]
  },
  {
   "cell_type": "code",
   "execution_count": null,
   "metadata": {},
   "outputs": [],
   "source": [
    "paste(paste(\"train\", toString(j), sep = \"\"),\".csv\",sep = \"\")"
   ]
  }
 ],
 "metadata": {
  "kernelspec": {
   "display_name": "R",
   "language": "R",
   "name": "ir"
  },
  "language_info": {
   "codemirror_mode": "r",
   "file_extension": ".r",
   "mimetype": "text/x-r-source",
   "name": "R",
   "pygments_lexer": "r",
   "version": "3.6.1"
  }
 },
 "nbformat": 4,
 "nbformat_minor": 4
}

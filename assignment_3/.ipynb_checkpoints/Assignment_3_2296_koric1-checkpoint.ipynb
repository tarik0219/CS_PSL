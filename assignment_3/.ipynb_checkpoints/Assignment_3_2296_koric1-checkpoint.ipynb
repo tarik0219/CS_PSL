{
 "cells": [
  {
   "cell_type": "markdown",
   "metadata": {},
   "source": [
    "# Team Members\n",
    "# Tarik Koric netid:koric1\n",
    "# Pranav Velamakanni netid: pranavv2\n",
    "\n",
    "## Pranav: \n",
    "- set up data \n",
    "- lo.lev\n",
    "\n",
    "\n",
    "## Tarik:\n",
    "- onestep_function\n",
    "- tested results"
   ]
  },
  {
   "cell_type": "code",
   "execution_count": 3,
   "metadata": {},
   "outputs": [
    {
     "data": {
      "text/html": [
       "<ol class=list-inline>\n",
       "\t<li>30</li>\n",
       "\t<li>2</li>\n",
       "</ol>\n"
      ],
      "text/latex": [
       "\\begin{enumerate*}\n",
       "\\item 30\n",
       "\\item 2\n",
       "\\end{enumerate*}\n"
      ],
      "text/markdown": [
       "1. 30\n",
       "2. 2\n",
       "\n",
       "\n"
      ],
      "text/plain": [
       "[1] 30  2"
      ]
     },
     "metadata": {},
     "output_type": "display_data"
    }
   ],
   "source": [
    "mydata = read.csv(file = \"Coding3_Data.csv\")\n",
    "dim(mydata)"
   ]
  },
  {
   "cell_type": "code",
   "execution_count": 4,
   "metadata": {},
   "outputs": [
    {
     "data": {
      "image/png": "[encoded data removed]",
      "text/plain": [
       "plot without title"
      ]
     },
     "metadata": {},
     "output_type": "display_data"
    }
   ],
   "source": [
    "plot(mydata$x, mydata$y, xlab=\"\", ylab=\"\")"
   ]
  },
  {
   "cell_type": "code",
   "execution_count": 5,
   "metadata": {},
   "outputs": [],
   "source": [
    "lo.lev <- function(x1, sp){\n",
    "  # x1: feature vector of length n\n",
    "  # sp: a value for \"span\"\n",
    "  \n",
    "    n = length(x1);\n",
    "    lev = rep(0, n)\n",
    "  \n",
    "  ##############################################\n",
    "  # YOUR CODE: Compute the diagonal entries of the \n",
    "  #            smoother matrix S and \n",
    "  #            store it in a vector \"lev\"\n",
    "  # Tip: check how we compute the smoother matrix\n",
    "  #      for smoothing spline models\n",
    "  ##############################################\n",
    "  \n",
    "    A = matrix(0,n,n)\n",
    "    \n",
    "    for(i in 1:n){\n",
    "        \n",
    "        y = rep(0,n)\n",
    "        y[i] = 1\n",
    "        yi = loess(y ~ x1, span = sp, control= loess.control(surface = \"direct\"))\n",
    "        A[,i] = yi$fitted\n",
    "        \n",
    "    }\n",
    "  \n",
    "    \n",
    "    \n",
    "    lev = diag(A)\n",
    "  \n",
    "    return(lev)\n",
    "}\n",
    "\n",
    "onestep_CV <- function(x1, y1, sp){\n",
    "  \n",
    "  ##############################################\n",
    "  #  YOUR CODE: \n",
    "  #  1) Fit a loess model y1 ~ x1 with span = sp, and extract \n",
    "  #     the corresponding residual vector\n",
    "  #  2) Call lo.lev to obtain the diagonal entries of S\n",
    "  #  3) Compute LOO-CV and GCV using formula from lecture notes\n",
    "  #    [lec_W5_NonlinearRegression.pdf] page 33. \n",
    "  ##############################################\n",
    "    \n",
    "    n = length(x1)\n",
    "    a = loess(y1 ~ x1, span = sp,control= loess.control(surface = \"direct\"))\n",
    "    g = rep(0,n)\n",
    "    g = a$fitted\n",
    "    \n",
    "    \n",
    "    cv = 0\n",
    "    gcv = 0\n",
    "    lev = lo.lev(x1,sp)\n",
    "    lev_tr = sum(lev)/n\n",
    "    for(i in 1:n){\n",
    "        cv = ((y1[i] - g[i])  / (1 - lev[i]))^2 + cv\n",
    "    }\n",
    "    \n",
    "    for(i in 1:n){\n",
    "        gcv = ((y1[i] - g[i])  / (1 - lev_tr))^2 + gcv\n",
    "    }\n",
    "    \n",
    "    cv = sum(cv)/n\n",
    "    gcv = sum(gcv)/n\n",
    "    \n",
    "    \n",
    "    \n",
    "    return(list(cv = cv, gcv = gcv))\n",
    "}\n",
    "\n",
    "myCV <- function(x1, y1, span){\n",
    "  # x1: feature vector of length n\n",
    "  # y1: response vector of length n\n",
    "  # span: a sequence of values for \"span\"\n",
    "  \n",
    "  m = length(span)\n",
    "  cv = rep(0, m)\n",
    "  gcv = rep(0, m)\n",
    "  \n",
    "  for(i in 1:m){\n",
    "    tmp = onestep_CV(x1, y1, span[i])\n",
    "    cv[i] = tmp$cv\n",
    "    gcv[i] = tmp$gcv\n",
    "  }\n",
    "  return(list(cv = cv, gcv = gcv))\n",
    "}"
   ]
  },
  {
   "cell_type": "code",
   "execution_count": 6,
   "metadata": {},
   "outputs": [],
   "source": [
    "span1 = seq(from = 0.2, by = 0.05, length = 15 )\n",
    "cv.out = myCV(mydata$x, mydata$y, span1)"
   ]
  },
  {
   "cell_type": "code",
   "execution_count": 7,
   "metadata": {},
   "outputs": [
    {
     "data": {
      "text/html": [
       "<table>\n",
       "<thead><tr><th scope=col>CV</th><th scope=col>GCV</th><th scope=col>span</th></tr></thead>\n",
       "<tbody>\n",
       "\t<tr><td>12.416167</td><td>2.109088 </td><td>0.20     </td></tr>\n",
       "\t<tr><td> 2.241351</td><td>1.489063 </td><td>0.25     </td></tr>\n",
       "\t<tr><td> 1.502957</td><td>1.190075 </td><td>0.30     </td></tr>\n",
       "\t<tr><td> 1.302611</td><td>1.155223 </td><td>0.35     </td></tr>\n",
       "\t<tr><td> 1.223215</td><td>1.081272 </td><td>0.40     </td></tr>\n",
       "\t<tr><td> 1.173550</td><td>1.046493 </td><td>0.45     </td></tr>\n",
       "\t<tr><td> 1.121463</td><td>1.016964 </td><td>0.50     </td></tr>\n",
       "\t<tr><td> 1.166369</td><td>1.105829 </td><td>0.55     </td></tr>\n",
       "\t<tr><td> 1.172145</td><td>1.112322 </td><td>0.60     </td></tr>\n",
       "\t<tr><td> 1.228412</td><td>1.158067 </td><td>0.65     </td></tr>\n",
       "\t<tr><td> 1.273253</td><td>1.209565 </td><td>0.70     </td></tr>\n",
       "\t<tr><td> 1.319765</td><td>1.266375 </td><td>0.75     </td></tr>\n",
       "\t<tr><td> 1.514219</td><td>1.440057 </td><td>0.80     </td></tr>\n",
       "\t<tr><td> 1.792494</td><td>1.703384 </td><td>0.85     </td></tr>\n",
       "\t<tr><td> 1.878643</td><td>1.782755 </td><td>0.90     </td></tr>\n",
       "</tbody>\n",
       "</table>\n"
      ],
      "text/latex": [
       "\\begin{tabular}{r|lll}\n",
       " CV & GCV & span\\\\\n",
       "\\hline\n",
       "\t 12.416167 & 2.109088  & 0.20     \\\\\n",
       "\t  2.241351 & 1.489063  & 0.25     \\\\\n",
       "\t  1.502957 & 1.190075  & 0.30     \\\\\n",
       "\t  1.302611 & 1.155223  & 0.35     \\\\\n",
       "\t  1.223215 & 1.081272  & 0.40     \\\\\n",
       "\t  1.173550 & 1.046493  & 0.45     \\\\\n",
       "\t  1.121463 & 1.016964  & 0.50     \\\\\n",
       "\t  1.166369 & 1.105829  & 0.55     \\\\\n",
       "\t  1.172145 & 1.112322  & 0.60     \\\\\n",
       "\t  1.228412 & 1.158067  & 0.65     \\\\\n",
       "\t  1.273253 & 1.209565  & 0.70     \\\\\n",
       "\t  1.319765 & 1.266375  & 0.75     \\\\\n",
       "\t  1.514219 & 1.440057  & 0.80     \\\\\n",
       "\t  1.792494 & 1.703384  & 0.85     \\\\\n",
       "\t  1.878643 & 1.782755  & 0.90     \\\\\n",
       "\\end{tabular}\n"
      ],
      "text/markdown": [
       "\n",
       "| CV | GCV | span |\n",
       "|---|---|---|\n",
       "| 12.416167 | 2.109088  | 0.20      |\n",
       "|  2.241351 | 1.489063  | 0.25      |\n",
       "|  1.502957 | 1.190075  | 0.30      |\n",
       "|  1.302611 | 1.155223  | 0.35      |\n",
       "|  1.223215 | 1.081272  | 0.40      |\n",
       "|  1.173550 | 1.046493  | 0.45      |\n",
       "|  1.121463 | 1.016964  | 0.50      |\n",
       "|  1.166369 | 1.105829  | 0.55      |\n",
       "|  1.172145 | 1.112322  | 0.60      |\n",
       "|  1.228412 | 1.158067  | 0.65      |\n",
       "|  1.273253 | 1.209565  | 0.70      |\n",
       "|  1.319765 | 1.266375  | 0.75      |\n",
       "|  1.514219 | 1.440057  | 0.80      |\n",
       "|  1.792494 | 1.703384  | 0.85      |\n",
       "|  1.878643 | 1.782755  | 0.90      |\n",
       "\n"
      ],
      "text/plain": [
       "   CV        GCV      span\n",
       "1  12.416167 2.109088 0.20\n",
       "2   2.241351 1.489063 0.25\n",
       "3   1.502957 1.190075 0.30\n",
       "4   1.302611 1.155223 0.35\n",
       "5   1.223215 1.081272 0.40\n",
       "6   1.173550 1.046493 0.45\n",
       "7   1.121463 1.016964 0.50\n",
       "8   1.166369 1.105829 0.55\n",
       "9   1.172145 1.112322 0.60\n",
       "10  1.228412 1.158067 0.65\n",
       "11  1.273253 1.209565 0.70\n",
       "12  1.319765 1.266375 0.75\n",
       "13  1.514219 1.440057 0.80\n",
       "14  1.792494 1.703384 0.85\n",
       "15  1.878643 1.782755 0.90"
      ]
     },
     "metadata": {},
     "output_type": "display_data"
    }
   ],
   "source": [
    "myout = data.frame(CV = cv.out$cv, \n",
    "                   GCV = cv.out$gcv, \n",
    "                   span = span1)\n",
    "myout"
   ]
  },
  {
   "cell_type": "code",
   "execution_count": 8,
   "metadata": {},
   "outputs": [
    {
     "data": {
      "text/html": [
       "0.5"
      ],
      "text/latex": [
       "0.5"
      ],
      "text/markdown": [
       "0.5"
      ],
      "text/plain": [
       "[1] 0.5"
      ]
     },
     "metadata": {},
     "output_type": "display_data"
    }
   ],
   "source": [
    "myout$span[myout$GCV == min(myout$GCV)]"
   ]
  },
  {
   "cell_type": "code",
   "execution_count": 9,
   "metadata": {},
   "outputs": [
    {
     "data": {
      "text/html": [
       "0.5"
      ],
      "text/latex": [
       "0.5"
      ],
      "text/markdown": [
       "0.5"
      ],
      "text/plain": [
       "[1] 0.5"
      ]
     },
     "metadata": {},
     "output_type": "display_data"
    }
   ],
   "source": [
    "myout$span[myout$CV == min(myout$CV)]"
   ]
  },
  {
   "cell_type": "code",
   "execution_count": 10,
   "metadata": {},
   "outputs": [
    {
     "data": {
      "image/png": "[encoded data removed]",
      "text/plain": [
       "plot without title"
      ]
     },
     "metadata": {},
     "output_type": "display_data"
    }
   ],
   "source": [
    "spangcv.min = 0.5\n",
    "plot(mydata$x, mydata$y, xlab=\"\", ylab=\"\", col=\"gray\");\n",
    "fx = 1:50/50;\n",
    "fy = sin(12*(fx+0.2))/(fx+0.2)\n",
    "lines(fx, fy, col=8, lwd=2);\n",
    "f = loess(y ~ x, mydata, span = spangcv.min)\n",
    "lines(fx, predict(f, data.frame(x = fx), surface = \"direct\"), \n",
    "      lty=2, lwd=2, col=\"blue\")"
   ]
  }
 ],
 "metadata": {
  "kernelspec": {
   "display_name": "R",
   "language": "R",
   "name": "ir"
  },
  "language_info": {
   "codemirror_mode": "r",
   "file_extension": ".r",
   "mimetype": "text/x-r-source",
   "name": "R",
   "pygments_lexer": "r",
   "version": "3.6.1"
  }
 },
 "nbformat": 4,
 "nbformat_minor": 4
}
